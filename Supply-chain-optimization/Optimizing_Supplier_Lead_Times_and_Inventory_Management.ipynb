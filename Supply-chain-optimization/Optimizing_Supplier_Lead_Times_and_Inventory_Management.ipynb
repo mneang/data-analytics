{
  "nbformat": 4,
  "nbformat_minor": 0,
  "metadata": {
    "colab": {
      "provenance": []
    },
    "kernelspec": {
      "name": "python3",
      "display_name": "Python 3"
    },
    "language_info": {
      "name": "python"
    }
  },
  "cells": [
    {
      "cell_type": "markdown",
      "source": [
        "# Optimizing Supplier Lead Times and Inventory Management\n",
        "## Project Overview\n",
        "In this project, we analyze a mock supply chain dataset to identify areas for improvement, focusing on supplier lead times and inventory levels. We aim to provide actionable insights for optimizing supply chain performance, reducing lead times, and preventing stockouts.\n",
        "\n",
        "### Tools Used:\n",
        "- Python (pandas, numpy)\n",
        "- Data visualization with matplotlib"
      ],
      "metadata": {
        "id": "meokOxDHxDXS"
      }
    },
    {
      "cell_type": "markdown",
      "source": [
        "## Step 1: Data Creation and Loading\n",
        "\n",
        "We first generate a sample dataset that contains supplier information, lead times, inventory levels, reorder points, and delivery times. The dataset is loaded into a pandas DataFrame for analysis.\n",
        "\n",
        "### Data Columns:\n",
        "- **Supplier**: The supplier name.\n",
        "- **Lead Time (Days)**: The time it takes for the supplier to deliver goods (in days).\n",
        "- **Inventory Level**: The current stock levels for each supplier.\n",
        "- **Reorder Point**: The minimum inventory level before reordering stock.\n",
        "- **Delivery Time (Days)**: Time taken for the supplier to complete delivery after order."
      ],
      "metadata": {
        "id": "DadulvvHxJSg"
      }
    },
    {
      "cell_type": "code",
      "source": [
        "import pandas as pd\n",
        "\n",
        "# Create a dictionary to store the data\n",
        "data_dict = {\n",
        "    'Supplier': ['Supplier A', 'Supplier B', 'Supplier C', 'Supplier D', 'Supplier E'],\n",
        "    'Lead Time (Days)': [10, 15, 8, 12, 20],\n",
        "    'Inventory Level': [500, 800, 600, 400, 300],\n",
        "    'Reorder Point': [300, 500, 400, 250, 200],\n",
        "    'Delivery Time (Days)': [12, 18, 10, 14, 22]\n",
        "}\n",
        "\n",
        "# Create a DataFrame from the dictionary\n",
        "data = pd.DataFrame(data_dict)\n",
        "\n",
        "# Display the first few rows of the data\n",
        "data.head()"
      ],
      "metadata": {
        "colab": {
          "base_uri": "https://localhost:8080/",
          "height": 206
        },
        "id": "aevu9EM2xNGz",
        "outputId": "d655c746-837f-4caa-b226-df452d268aad"
      },
      "execution_count": null,
      "outputs": [
        {
          "output_type": "execute_result",
          "data": {
            "text/plain": [
              "     Supplier  Lead Time (Days)  Inventory Level  Reorder Point  \\\n",
              "0  Supplier A                10              500            300   \n",
              "1  Supplier B                15              800            500   \n",
              "2  Supplier C                 8              600            400   \n",
              "3  Supplier D                12              400            250   \n",
              "4  Supplier E                20              300            200   \n",
              "\n",
              "   Delivery Time (Days)  \n",
              "0                    12  \n",
              "1                    18  \n",
              "2                    10  \n",
              "3                    14  \n",
              "4                    22  "
            ],
            "text/html": [
              "\n",
              "  <div id=\"df-4d30ef23-ee22-447e-92a6-bcfaba0e6a08\" class=\"colab-df-container\">\n",
              "    <div>\n",
              "<style scoped>\n",
              "    .dataframe tbody tr th:only-of-type {\n",
              "        vertical-align: middle;\n",
              "    }\n",
              "\n",
              "    .dataframe tbody tr th {\n",
              "        vertical-align: top;\n",
              "    }\n",
              "\n",
              "    .dataframe thead th {\n",
              "        text-align: right;\n",
              "    }\n",
              "</style>\n",
              "<table border=\"1\" class=\"dataframe\">\n",
              "  <thead>\n",
              "    <tr style=\"text-align: right;\">\n",
              "      <th></th>\n",
              "      <th>Supplier</th>\n",
              "      <th>Lead Time (Days)</th>\n",
              "      <th>Inventory Level</th>\n",
              "      <th>Reorder Point</th>\n",
              "      <th>Delivery Time (Days)</th>\n",
              "    </tr>\n",
              "  </thead>\n",
              "  <tbody>\n",
              "    <tr>\n",
              "      <th>0</th>\n",
              "      <td>Supplier A</td>\n",
              "      <td>10</td>\n",
              "      <td>500</td>\n",
              "      <td>300</td>\n",
              "      <td>12</td>\n",
              "    </tr>\n",
              "    <tr>\n",
              "      <th>1</th>\n",
              "      <td>Supplier B</td>\n",
              "      <td>15</td>\n",
              "      <td>800</td>\n",
              "      <td>500</td>\n",
              "      <td>18</td>\n",
              "    </tr>\n",
              "    <tr>\n",
              "      <th>2</th>\n",
              "      <td>Supplier C</td>\n",
              "      <td>8</td>\n",
              "      <td>600</td>\n",
              "      <td>400</td>\n",
              "      <td>10</td>\n",
              "    </tr>\n",
              "    <tr>\n",
              "      <th>3</th>\n",
              "      <td>Supplier D</td>\n",
              "      <td>12</td>\n",
              "      <td>400</td>\n",
              "      <td>250</td>\n",
              "      <td>14</td>\n",
              "    </tr>\n",
              "    <tr>\n",
              "      <th>4</th>\n",
              "      <td>Supplier E</td>\n",
              "      <td>20</td>\n",
              "      <td>300</td>\n",
              "      <td>200</td>\n",
              "      <td>22</td>\n",
              "    </tr>\n",
              "  </tbody>\n",
              "</table>\n",
              "</div>\n",
              "    <div class=\"colab-df-buttons\">\n",
              "\n",
              "  <div class=\"colab-df-container\">\n",
              "    <button class=\"colab-df-convert\" onclick=\"convertToInteractive('df-4d30ef23-ee22-447e-92a6-bcfaba0e6a08')\"\n",
              "            title=\"Convert this dataframe to an interactive table.\"\n",
              "            style=\"display:none;\">\n",
              "\n",
              "  <svg xmlns=\"http://www.w3.org/2000/svg\" height=\"24px\" viewBox=\"0 -960 960 960\">\n",
              "    <path d=\"M120-120v-720h720v720H120Zm60-500h600v-160H180v160Zm220 220h160v-160H400v160Zm0 220h160v-160H400v160ZM180-400h160v-160H180v160Zm440 0h160v-160H620v160ZM180-180h160v-160H180v160Zm440 0h160v-160H620v160Z\"/>\n",
              "  </svg>\n",
              "    </button>\n",
              "\n",
              "  <style>\n",
              "    .colab-df-container {\n",
              "      display:flex;\n",
              "      gap: 12px;\n",
              "    }\n",
              "\n",
              "    .colab-df-convert {\n",
              "      background-color: #E8F0FE;\n",
              "      border: none;\n",
              "      border-radius: 50%;\n",
              "      cursor: pointer;\n",
              "      display: none;\n",
              "      fill: #1967D2;\n",
              "      height: 32px;\n",
              "      padding: 0 0 0 0;\n",
              "      width: 32px;\n",
              "    }\n",
              "\n",
              "    .colab-df-convert:hover {\n",
              "      background-color: #E2EBFA;\n",
              "      box-shadow: 0px 1px 2px rgba(60, 64, 67, 0.3), 0px 1px 3px 1px rgba(60, 64, 67, 0.15);\n",
              "      fill: #174EA6;\n",
              "    }\n",
              "\n",
              "    .colab-df-buttons div {\n",
              "      margin-bottom: 4px;\n",
              "    }\n",
              "\n",
              "    [theme=dark] .colab-df-convert {\n",
              "      background-color: #3B4455;\n",
              "      fill: #D2E3FC;\n",
              "    }\n",
              "\n",
              "    [theme=dark] .colab-df-convert:hover {\n",
              "      background-color: #434B5C;\n",
              "      box-shadow: 0px 1px 3px 1px rgba(0, 0, 0, 0.15);\n",
              "      filter: drop-shadow(0px 1px 2px rgba(0, 0, 0, 0.3));\n",
              "      fill: #FFFFFF;\n",
              "    }\n",
              "  </style>\n",
              "\n",
              "    <script>\n",
              "      const buttonEl =\n",
              "        document.querySelector('#df-4d30ef23-ee22-447e-92a6-bcfaba0e6a08 button.colab-df-convert');\n",
              "      buttonEl.style.display =\n",
              "        google.colab.kernel.accessAllowed ? 'block' : 'none';\n",
              "\n",
              "      async function convertToInteractive(key) {\n",
              "        const element = document.querySelector('#df-4d30ef23-ee22-447e-92a6-bcfaba0e6a08');\n",
              "        const dataTable =\n",
              "          await google.colab.kernel.invokeFunction('convertToInteractive',\n",
              "                                                    [key], {});\n",
              "        if (!dataTable) return;\n",
              "\n",
              "        const docLinkHtml = 'Like what you see? Visit the ' +\n",
              "          '<a target=\"_blank\" href=https://colab.research.google.com/notebooks/data_table.ipynb>data table notebook</a>'\n",
              "          + ' to learn more about interactive tables.';\n",
              "        element.innerHTML = '';\n",
              "        dataTable['output_type'] = 'display_data';\n",
              "        await google.colab.output.renderOutput(dataTable, element);\n",
              "        const docLink = document.createElement('div');\n",
              "        docLink.innerHTML = docLinkHtml;\n",
              "        element.appendChild(docLink);\n",
              "      }\n",
              "    </script>\n",
              "  </div>\n",
              "\n",
              "\n",
              "<div id=\"df-0dce7f14-4837-4a31-b129-aba4492fd391\">\n",
              "  <button class=\"colab-df-quickchart\" onclick=\"quickchart('df-0dce7f14-4837-4a31-b129-aba4492fd391')\"\n",
              "            title=\"Suggest charts\"\n",
              "            style=\"display:none;\">\n",
              "\n",
              "<svg xmlns=\"http://www.w3.org/2000/svg\" height=\"24px\"viewBox=\"0 0 24 24\"\n",
              "     width=\"24px\">\n",
              "    <g>\n",
              "        <path d=\"M19 3H5c-1.1 0-2 .9-2 2v14c0 1.1.9 2 2 2h14c1.1 0 2-.9 2-2V5c0-1.1-.9-2-2-2zM9 17H7v-7h2v7zm4 0h-2V7h2v10zm4 0h-2v-4h2v4z\"/>\n",
              "    </g>\n",
              "</svg>\n",
              "  </button>\n",
              "\n",
              "<style>\n",
              "  .colab-df-quickchart {\n",
              "      --bg-color: #E8F0FE;\n",
              "      --fill-color: #1967D2;\n",
              "      --hover-bg-color: #E2EBFA;\n",
              "      --hover-fill-color: #174EA6;\n",
              "      --disabled-fill-color: #AAA;\n",
              "      --disabled-bg-color: #DDD;\n",
              "  }\n",
              "\n",
              "  [theme=dark] .colab-df-quickchart {\n",
              "      --bg-color: #3B4455;\n",
              "      --fill-color: #D2E3FC;\n",
              "      --hover-bg-color: #434B5C;\n",
              "      --hover-fill-color: #FFFFFF;\n",
              "      --disabled-bg-color: #3B4455;\n",
              "      --disabled-fill-color: #666;\n",
              "  }\n",
              "\n",
              "  .colab-df-quickchart {\n",
              "    background-color: var(--bg-color);\n",
              "    border: none;\n",
              "    border-radius: 50%;\n",
              "    cursor: pointer;\n",
              "    display: none;\n",
              "    fill: var(--fill-color);\n",
              "    height: 32px;\n",
              "    padding: 0;\n",
              "    width: 32px;\n",
              "  }\n",
              "\n",
              "  .colab-df-quickchart:hover {\n",
              "    background-color: var(--hover-bg-color);\n",
              "    box-shadow: 0 1px 2px rgba(60, 64, 67, 0.3), 0 1px 3px 1px rgba(60, 64, 67, 0.15);\n",
              "    fill: var(--button-hover-fill-color);\n",
              "  }\n",
              "\n",
              "  .colab-df-quickchart-complete:disabled,\n",
              "  .colab-df-quickchart-complete:disabled:hover {\n",
              "    background-color: var(--disabled-bg-color);\n",
              "    fill: var(--disabled-fill-color);\n",
              "    box-shadow: none;\n",
              "  }\n",
              "\n",
              "  .colab-df-spinner {\n",
              "    border: 2px solid var(--fill-color);\n",
              "    border-color: transparent;\n",
              "    border-bottom-color: var(--fill-color);\n",
              "    animation:\n",
              "      spin 1s steps(1) infinite;\n",
              "  }\n",
              "\n",
              "  @keyframes spin {\n",
              "    0% {\n",
              "      border-color: transparent;\n",
              "      border-bottom-color: var(--fill-color);\n",
              "      border-left-color: var(--fill-color);\n",
              "    }\n",
              "    20% {\n",
              "      border-color: transparent;\n",
              "      border-left-color: var(--fill-color);\n",
              "      border-top-color: var(--fill-color);\n",
              "    }\n",
              "    30% {\n",
              "      border-color: transparent;\n",
              "      border-left-color: var(--fill-color);\n",
              "      border-top-color: var(--fill-color);\n",
              "      border-right-color: var(--fill-color);\n",
              "    }\n",
              "    40% {\n",
              "      border-color: transparent;\n",
              "      border-right-color: var(--fill-color);\n",
              "      border-top-color: var(--fill-color);\n",
              "    }\n",
              "    60% {\n",
              "      border-color: transparent;\n",
              "      border-right-color: var(--fill-color);\n",
              "    }\n",
              "    80% {\n",
              "      border-color: transparent;\n",
              "      border-right-color: var(--fill-color);\n",
              "      border-bottom-color: var(--fill-color);\n",
              "    }\n",
              "    90% {\n",
              "      border-color: transparent;\n",
              "      border-bottom-color: var(--fill-color);\n",
              "    }\n",
              "  }\n",
              "</style>\n",
              "\n",
              "  <script>\n",
              "    async function quickchart(key) {\n",
              "      const quickchartButtonEl =\n",
              "        document.querySelector('#' + key + ' button');\n",
              "      quickchartButtonEl.disabled = true;  // To prevent multiple clicks.\n",
              "      quickchartButtonEl.classList.add('colab-df-spinner');\n",
              "      try {\n",
              "        const charts = await google.colab.kernel.invokeFunction(\n",
              "            'suggestCharts', [key], {});\n",
              "      } catch (error) {\n",
              "        console.error('Error during call to suggestCharts:', error);\n",
              "      }\n",
              "      quickchartButtonEl.classList.remove('colab-df-spinner');\n",
              "      quickchartButtonEl.classList.add('colab-df-quickchart-complete');\n",
              "    }\n",
              "    (() => {\n",
              "      let quickchartButtonEl =\n",
              "        document.querySelector('#df-0dce7f14-4837-4a31-b129-aba4492fd391 button');\n",
              "      quickchartButtonEl.style.display =\n",
              "        google.colab.kernel.accessAllowed ? 'block' : 'none';\n",
              "    })();\n",
              "  </script>\n",
              "</div>\n",
              "\n",
              "    </div>\n",
              "  </div>\n"
            ],
            "application/vnd.google.colaboratory.intrinsic+json": {
              "type": "dataframe",
              "variable_name": "data",
              "summary": "{\n  \"name\": \"data\",\n  \"rows\": 5,\n  \"fields\": [\n    {\n      \"column\": \"Supplier\",\n      \"properties\": {\n        \"dtype\": \"string\",\n        \"num_unique_values\": 5,\n        \"samples\": [\n          \"Supplier B\",\n          \"Supplier E\",\n          \"Supplier C\"\n        ],\n        \"semantic_type\": \"\",\n        \"description\": \"\"\n      }\n    },\n    {\n      \"column\": \"Lead Time (Days)\",\n      \"properties\": {\n        \"dtype\": \"number\",\n        \"std\": 4,\n        \"min\": 8,\n        \"max\": 20,\n        \"num_unique_values\": 5,\n        \"samples\": [\n          15,\n          20,\n          8\n        ],\n        \"semantic_type\": \"\",\n        \"description\": \"\"\n      }\n    },\n    {\n      \"column\": \"Inventory Level\",\n      \"properties\": {\n        \"dtype\": \"number\",\n        \"std\": 192,\n        \"min\": 300,\n        \"max\": 800,\n        \"num_unique_values\": 5,\n        \"samples\": [\n          800,\n          300,\n          600\n        ],\n        \"semantic_type\": \"\",\n        \"description\": \"\"\n      }\n    },\n    {\n      \"column\": \"Reorder Point\",\n      \"properties\": {\n        \"dtype\": \"number\",\n        \"std\": 120,\n        \"min\": 200,\n        \"max\": 500,\n        \"num_unique_values\": 5,\n        \"samples\": [\n          500,\n          200,\n          400\n        ],\n        \"semantic_type\": \"\",\n        \"description\": \"\"\n      }\n    },\n    {\n      \"column\": \"Delivery Time (Days)\",\n      \"properties\": {\n        \"dtype\": \"number\",\n        \"std\": 4,\n        \"min\": 10,\n        \"max\": 22,\n        \"num_unique_values\": 5,\n        \"samples\": [\n          18,\n          22,\n          10\n        ],\n        \"semantic_type\": \"\",\n        \"description\": \"\"\n      }\n    }\n  ]\n}"
            }
          },
          "metadata": {},
          "execution_count": 3
        }
      ]
    },
    {
      "cell_type": "markdown",
      "source": [
        "## Step 2: Data Cleaning\n",
        "\n",
        "Before performing any analysis, we check for missing values and verify the data types. If necessary, we convert data types to ensure consistency and accuracy during the analysis process."
      ],
      "metadata": {
        "id": "ORYGH85SxOTj"
      }
    },
    {
      "cell_type": "code",
      "source": [
        "# Check for missing values\n",
        "print(data.isnull().sum())"
      ],
      "metadata": {
        "colab": {
          "base_uri": "https://localhost:8080/"
        },
        "id": "E_oyWaaQxYRw",
        "outputId": "13315525-c713-426b-90a8-55d544b761b8"
      },
      "execution_count": null,
      "outputs": [
        {
          "output_type": "stream",
          "name": "stdout",
          "text": [
            "Supplier                0\n",
            "Lead Time (Days)        0\n",
            "Inventory Level         0\n",
            "Reorder Point           0\n",
            "Delivery Time (Days)    0\n",
            "dtype: int64\n"
          ]
        }
      ]
    },
    {
      "cell_type": "code",
      "source": [
        "# Check data types\n",
        "print(data.dtypes)"
      ],
      "metadata": {
        "colab": {
          "base_uri": "https://localhost:8080/"
        },
        "id": "Fb1XSSqoxZZI",
        "outputId": "16667f0a-8eb5-4266-82fd-703ecc65cc01"
      },
      "execution_count": null,
      "outputs": [
        {
          "output_type": "stream",
          "name": "stdout",
          "text": [
            "Supplier                object\n",
            "Lead Time (Days)         int64\n",
            "Inventory Level          int64\n",
            "Reorder Point            int64\n",
            "Delivery Time (Days)     int64\n",
            "dtype: object\n"
          ]
        }
      ]
    },
    {
      "cell_type": "code",
      "source": [
        "# Example of converting columns to integer type (if necessary)\n",
        "data['Lead Time (Days)'] = data['Lead Time (Days)'].astype(int)\n",
        "data['Inventory Level'] = data['Inventory Level'].astype(int)"
      ],
      "metadata": {
        "id": "TjTxJjiKxcCg"
      },
      "execution_count": null,
      "outputs": []
    },
    {
      "cell_type": "markdown",
      "source": [
        "## Step 3: Data Analysis\n",
        "\n",
        "### Identifying Suppliers with Long Lead Times\n",
        "\n",
        "We filter suppliers with lead times greater than 10 days to determine which suppliers may require further analysis or negotiation to improve supply chain efficiency."
      ],
      "metadata": {
        "id": "dC9RDBcGxQkC"
      }
    },
    {
      "cell_type": "code",
      "source": [
        "# Suppliers with lead times greater than 10 days\n",
        "long_lead_time_suppliers = data[data['Lead Time (Days)'] > 10]\n",
        "print(long_lead_time_suppliers)"
      ],
      "metadata": {
        "colab": {
          "base_uri": "https://localhost:8080/"
        },
        "id": "tg3MDTdQxeCK",
        "outputId": "104c19d6-9a72-4a68-9b99-1835cdeff744"
      },
      "execution_count": null,
      "outputs": [
        {
          "output_type": "stream",
          "name": "stdout",
          "text": [
            "     Supplier  Lead Time (Days)  Inventory Level  Reorder Point  \\\n",
            "1  Supplier B                15              800            500   \n",
            "3  Supplier D                12              400            250   \n",
            "4  Supplier E                20              300            200   \n",
            "\n",
            "   Delivery Time (Days)  \n",
            "1                    18  \n",
            "3                    14  \n",
            "4                    22  \n"
          ]
        }
      ]
    },
    {
      "cell_type": "markdown",
      "source": [
        "### Identifying Products Near Reorder Point\n",
        "\n",
        "We also check which products are at or below their reorder point to ensure that stockouts are avoided. A reorder alert is triggered for any product below the defined reorder threshold."
      ],
      "metadata": {
        "id": "AxJK92fbxTvK"
      }
    },
    {
      "cell_type": "code",
      "source": [
        "# Create a column to flag products near reorder points\n",
        "data['Reorder Alert'] = data['Inventory Level'] <= data['Reorder Point']\n",
        "\n",
        "# Display rows where reorder alert is triggered\n",
        "reorder_alerts = data[data['Reorder Alert'] == True]\n",
        "print(reorder_alerts)"
      ],
      "metadata": {
        "id": "3eByRpgJ0JvD",
        "outputId": "7fe60d64-ea95-42eb-f8df-f2ab1a870305",
        "colab": {
          "base_uri": "https://localhost:8080/"
        }
      },
      "execution_count": null,
      "outputs": [
        {
          "output_type": "stream",
          "name": "stdout",
          "text": [
            "Empty DataFrame\n",
            "Columns: [Supplier, Lead Time (Days), Inventory Level, Reorder Point, Delivery Time (Days), Reorder Alert]\n",
            "Index: []\n"
          ]
        }
      ]
    },
    {
      "cell_type": "markdown",
      "source": [
        "## Step 4: Data Visualization\n",
        "\n",
        "### Supplier Lead Times\n",
        "\n",
        "The bar chart below shows the lead times for each supplier. This visualization helps us quickly identify suppliers with longer lead times, who may need closer management or process improvements."
      ],
      "metadata": {
        "id": "_0obOy5hxXDR"
      }
    },
    {
      "cell_type": "code",
      "source": [
        "\n",
        "# Bar chart for supplier lead times\n",
        "plt.bar(data['Supplier'], data['Lead Time (Days)'])\n",
        "plt.xlabel('Supplier')\n",
        "plt.ylabel('Lead Time (Days)')\n",
        "plt.title('Supplier Lead Times')\n",
        "plt.show()"
      ],
      "metadata": {
        "colab": {
          "base_uri": "https://localhost:8080/",
          "height": 472
        },
        "id": "2JfugkDNrCvX",
        "outputId": "191aab9c-4831-4455-c5bf-d55786df6931"
      },
      "execution_count": null,
      "outputs": [
        {
          "output_type": "display_data",
          "data": {
            "text/plain": [
              "<Figure size 640x480 with 1 Axes>"
            ],
            "image/png": "[encoded data removed]"
          },
          "metadata": {}
        }
      ]
    },
    {
      "cell_type": "markdown",
      "source": [
        "### Inventory Levels vs Reorder Points\n",
        "\n",
        "In this chart, we visualize the current inventory levels of each supplier compared to their reorder points. Any supplier whose inventory is at or below the reorder point requires immediate attention to prevent stockouts."
      ],
      "metadata": {
        "id": "MPmMaLUXxZVQ"
      }
    },
    {
      "cell_type": "code",
      "source": [
        "# Line chart for inventory levels and reorder points\n",
        "plt.plot(data['Supplier'], data['Inventory Level'], label='Inventory Level')\n",
        "plt.plot(data['Supplier'], data['Reorder Point'], label='Reorder Point', linestyle='--')\n",
        "plt.xlabel('Supplier')\n",
        "plt.ylabel('Units')\n",
        "plt.title('Inventory Levels vs Reorder Points')\n",
        "plt.legend()\n",
        "plt.show()"
      ],
      "metadata": {
        "colab": {
          "base_uri": "https://localhost:8080/",
          "height": 472
        },
        "id": "KSy50c73rdI8",
        "outputId": "808e1d56-d667-4eab-bb1b-c95c9999fc1a"
      },
      "execution_count": null,
      "outputs": [
        {
          "output_type": "display_data",
          "data": {
            "text/plain": [
              "<Figure size 640x480 with 1 Axes>"
            ],
            "image/png": "[encoded data removed]"
          },
          "metadata": {}
        }
      ]
    },
    {
      "cell_type": "markdown",
      "source": [
        "## Conclusion\n",
        "\n",
        "By analyzing supplier lead times and monitoring inventory levels against reorder points, we’ve identified key areas for improvement in the supply chain:\n",
        "\n",
        "- **Supplier B and Supplier E** have significantly higher lead times, indicating potential delays that need to be addressed.\n",
        "- **Products from Supplier D** are nearing their reorder point, requiring immediate restocking to avoid stockouts.\n",
        "\n",
        "Further analysis could involve optimizing reorder quantities and forecasting future demand based on historical data trends."
      ],
      "metadata": {
        "id": "yGRkLePsxcU3"
      }
    }
  ]
}